{
 "cells": [
  {
   "cell_type": "markdown",
   "metadata": {},
   "source": [
    "# [Hypothesis] Development in tourism caused lot of crimes."
   ]
  },
  {
   "cell_type": "markdown",
   "metadata": {},
   "source": [
    "Following types of crimes are identified as high correlation with tourism in our initial analysis.\n",
    "\n",
    "1. Robbery\n",
    "2. Offences under dangeroud drugs\n",
    "3. Theft\n",
    "4. Kidnapping\n",
    "5. Offences with weapons"
   ]
  },
  {
   "cell_type": "markdown",
   "metadata": {},
   "source": [
    "**Imports and workspace setting**"
   ]
  },
  {
   "cell_type": "code",
   "execution_count": 16,
   "metadata": {},
   "outputs": [],
   "source": [
    "import csv\n",
    "import math\n",
    "import os\n",
    "\n",
    "import numpy as np\n",
    "import pandas as pd\n",
    "import seaborn as sns\n",
    "import scipy.stats as stat\n",
    "\n",
    "import matplotlib.mlab as mlab\n",
    "import matplotlib.pyplot as plt\n",
    "%matplotlib inline"
   ]
  },
  {
   "cell_type": "code",
   "execution_count": 17,
   "metadata": {},
   "outputs": [
    {
     "name": "stdout",
     "output_type": "stream",
     "text": [
      "Data set size :  (26, 38)\n"
     ]
    },
    {
     "data": {
      "text/html": [
       "<div>\n",
       "<style scoped>\n",
       "    .dataframe tbody tr th:only-of-type {\n",
       "        vertical-align: middle;\n",
       "    }\n",
       "\n",
       "    .dataframe tbody tr th {\n",
       "        vertical-align: top;\n",
       "    }\n",
       "\n",
       "    .dataframe thead th {\n",
       "        text-align: right;\n",
       "    }\n",
       "</style>\n",
       "<table border=\"1\" class=\"dataframe\">\n",
       "  <thead>\n",
       "    <tr style=\"text-align: right;\">\n",
       "      <th></th>\n",
       "      <th>District</th>\n",
       "      <th>Rooms</th>\n",
       "      <th>Abduction / Kidnapping</th>\n",
       "      <th>Arson</th>\n",
       "      <th>Mischief  over Rs.5000/=</th>\n",
       "      <th>H.B. &amp; Theft</th>\n",
       "      <th>Grevious  Hurt</th>\n",
       "      <th>Hurt  by Knife etc.</th>\n",
       "      <th>Homicide/Abet. To commit suicide</th>\n",
       "      <th>Attempted Homicide</th>\n",
       "      <th>...</th>\n",
       "      <th>Cheating/Misappropriation C.B. Trust &gt; Rs.100,000</th>\n",
       "      <th>Theft of Property (praedial produce &gt; Rs.5000)</th>\n",
       "      <th>Counterfeiting Currency</th>\n",
       "      <th>Offences against  State</th>\n",
       "      <th>Cruelty &amp; sexual  exploitation of children</th>\n",
       "      <th>Procuration / Trafficking</th>\n",
       "      <th>Offences under the Offensive weapons Act.</th>\n",
       "      <th>Possess Automatic/ Repeater Shot Guns</th>\n",
       "      <th>Offence under Poisons, Opium &amp; Dangerous Drugs</th>\n",
       "      <th>2012</th>\n",
       "    </tr>\n",
       "  </thead>\n",
       "  <tbody>\n",
       "    <tr>\n",
       "      <th>0</th>\n",
       "      <td>Ampara</td>\n",
       "      <td>610.0</td>\n",
       "      <td>29.0</td>\n",
       "      <td>31.0</td>\n",
       "      <td>36.0</td>\n",
       "      <td>239.0</td>\n",
       "      <td>69.0</td>\n",
       "      <td>38.0</td>\n",
       "      <td>16.0</td>\n",
       "      <td>12.0</td>\n",
       "      <td>...</td>\n",
       "      <td>232.0</td>\n",
       "      <td>242.0</td>\n",
       "      <td>1.0</td>\n",
       "      <td>0.0</td>\n",
       "      <td>1.0</td>\n",
       "      <td>2.0</td>\n",
       "      <td>1.0</td>\n",
       "      <td>0.0</td>\n",
       "      <td>1.0</td>\n",
       "      <td>648.06</td>\n",
       "    </tr>\n",
       "    <tr>\n",
       "      <th>1</th>\n",
       "      <td>Anuradhapura</td>\n",
       "      <td>979.0</td>\n",
       "      <td>68.0</td>\n",
       "      <td>47.0</td>\n",
       "      <td>107.0</td>\n",
       "      <td>834.0</td>\n",
       "      <td>108.0</td>\n",
       "      <td>72.0</td>\n",
       "      <td>24.0</td>\n",
       "      <td>15.0</td>\n",
       "      <td>...</td>\n",
       "      <td>270.0</td>\n",
       "      <td>584.0</td>\n",
       "      <td>6.0</td>\n",
       "      <td>0.0</td>\n",
       "      <td>23.0</td>\n",
       "      <td>2.0</td>\n",
       "      <td>4.0</td>\n",
       "      <td>1.0</td>\n",
       "      <td>7.0</td>\n",
       "      <td>856.23</td>\n",
       "    </tr>\n",
       "    <tr>\n",
       "      <th>2</th>\n",
       "      <td>Badulla</td>\n",
       "      <td>765.0</td>\n",
       "      <td>38.0</td>\n",
       "      <td>14.0</td>\n",
       "      <td>42.0</td>\n",
       "      <td>359.0</td>\n",
       "      <td>112.0</td>\n",
       "      <td>85.0</td>\n",
       "      <td>28.0</td>\n",
       "      <td>11.0</td>\n",
       "      <td>...</td>\n",
       "      <td>138.0</td>\n",
       "      <td>296.0</td>\n",
       "      <td>1.0</td>\n",
       "      <td>0.0</td>\n",
       "      <td>2.0</td>\n",
       "      <td>0.0</td>\n",
       "      <td>3.0</td>\n",
       "      <td>0.0</td>\n",
       "      <td>20.0</td>\n",
       "      <td>811.76</td>\n",
       "    </tr>\n",
       "    <tr>\n",
       "      <th>3</th>\n",
       "      <td>Batticaloa</td>\n",
       "      <td>883.0</td>\n",
       "      <td>21.0</td>\n",
       "      <td>33.0</td>\n",
       "      <td>38.0</td>\n",
       "      <td>227.0</td>\n",
       "      <td>56.0</td>\n",
       "      <td>89.0</td>\n",
       "      <td>11.0</td>\n",
       "      <td>2.0</td>\n",
       "      <td>...</td>\n",
       "      <td>225.0</td>\n",
       "      <td>221.0</td>\n",
       "      <td>1.0</td>\n",
       "      <td>0.0</td>\n",
       "      <td>6.0</td>\n",
       "      <td>3.0</td>\n",
       "      <td>1.0</td>\n",
       "      <td>1.0</td>\n",
       "      <td>3.0</td>\n",
       "      <td>525.14</td>\n",
       "    </tr>\n",
       "    <tr>\n",
       "      <th>4</th>\n",
       "      <td>Colombo</td>\n",
       "      <td>7519.0</td>\n",
       "      <td>154.0</td>\n",
       "      <td>22.0</td>\n",
       "      <td>140.0</td>\n",
       "      <td>2996.0</td>\n",
       "      <td>248.0</td>\n",
       "      <td>379.0</td>\n",
       "      <td>62.0</td>\n",
       "      <td>21.0</td>\n",
       "      <td>...</td>\n",
       "      <td>1736.0</td>\n",
       "      <td>2809.0</td>\n",
       "      <td>4.0</td>\n",
       "      <td>0.0</td>\n",
       "      <td>52.0</td>\n",
       "      <td>1.0</td>\n",
       "      <td>21.0</td>\n",
       "      <td>6.0</td>\n",
       "      <td>573.0</td>\n",
       "      <td>2309.81</td>\n",
       "    </tr>\n",
       "  </tbody>\n",
       "</table>\n",
       "<p>5 rows × 25 columns</p>\n",
       "</div>"
      ],
      "text/plain": [
       "       District   Rooms  Abduction / Kidnapping  Arson  \\\n",
       "0        Ampara   610.0                    29.0   31.0   \n",
       "1  Anuradhapura   979.0                    68.0   47.0   \n",
       "2       Badulla   765.0                    38.0   14.0   \n",
       "3    Batticaloa   883.0                    21.0   33.0   \n",
       "4       Colombo  7519.0                   154.0   22.0   \n",
       "\n",
       "   Mischief  over Rs.5000/=  H.B. & Theft  Grevious  Hurt  \\\n",
       "0                      36.0         239.0            69.0   \n",
       "1                     107.0         834.0           108.0   \n",
       "2                      42.0         359.0           112.0   \n",
       "3                      38.0         227.0            56.0   \n",
       "4                     140.0        2996.0           248.0   \n",
       "\n",
       "   Hurt  by Knife etc.  Homicide/Abet. To commit suicide  Attempted Homicide  \\\n",
       "0                 38.0                              16.0                12.0   \n",
       "1                 72.0                              24.0                15.0   \n",
       "2                 85.0                              28.0                11.0   \n",
       "3                 89.0                              11.0                 2.0   \n",
       "4                379.0                              62.0                21.0   \n",
       "\n",
       "    ...     Cheating/Misappropriation C.B. Trust > Rs.100,000  \\\n",
       "0   ...                                                 232.0   \n",
       "1   ...                                                 270.0   \n",
       "2   ...                                                 138.0   \n",
       "3   ...                                                 225.0   \n",
       "4   ...                                                1736.0   \n",
       "\n",
       "   Theft of Property (praedial produce > Rs.5000)  Counterfeiting Currency  \\\n",
       "0                                           242.0                      1.0   \n",
       "1                                           584.0                      6.0   \n",
       "2                                           296.0                      1.0   \n",
       "3                                           221.0                      1.0   \n",
       "4                                          2809.0                      4.0   \n",
       "\n",
       "   Offences against  State  Cruelty & sexual  exploitation of children   \\\n",
       "0                      0.0                                          1.0   \n",
       "1                      0.0                                         23.0   \n",
       "2                      0.0                                          2.0   \n",
       "3                      0.0                                          6.0   \n",
       "4                      0.0                                         52.0   \n",
       "\n",
       "   Procuration / Trafficking  Offences under the Offensive weapons Act.  \\\n",
       "0                        2.0                                        1.0   \n",
       "1                        2.0                                        4.0   \n",
       "2                        0.0                                        3.0   \n",
       "3                        3.0                                        1.0   \n",
       "4                        1.0                                       21.0   \n",
       "\n",
       "   Possess Automatic/ Repeater Shot Guns  \\\n",
       "0                                    0.0   \n",
       "1                                    1.0   \n",
       "2                                    0.0   \n",
       "3                                    1.0   \n",
       "4                                    6.0   \n",
       "\n",
       "   Offence under Poisons, Opium & Dangerous Drugs     2012  \n",
       "0                                             1.0   648.06  \n",
       "1                                             7.0   856.23  \n",
       "2                                            20.0   811.76  \n",
       "3                                             3.0   525.14  \n",
       "4                                           573.0  2309.81  \n",
       "\n",
       "[5 rows x 25 columns]"
      ]
     },
     "execution_count": 17,
     "metadata": {},
     "output_type": "execute_result"
    }
   ],
   "source": [
    "integrated_data = pd.read_csv('../data/integrated_data.csv')\n",
    "print(\"Data set size : \", integrated_data.shape)\n",
    "integrated_data = integrated_data.drop(integrated_data.columns[[0, 3, 4, 5, 6, 7, 8, 9, 10, 11, 12, 13, 14]], axis=1)\n",
    "integrated_data.head()"
   ]
  },
  {
   "cell_type": "markdown",
   "metadata": {},
   "source": [
    "####  Normalizing the crime data per district by dividing by district population"
   ]
  },
  {
   "cell_type": "code",
   "execution_count": 18,
   "metadata": {},
   "outputs": [
    {
     "data": {
      "text/html": [
       "<div>\n",
       "<style scoped>\n",
       "    .dataframe tbody tr th:only-of-type {\n",
       "        vertical-align: middle;\n",
       "    }\n",
       "\n",
       "    .dataframe tbody tr th {\n",
       "        vertical-align: top;\n",
       "    }\n",
       "\n",
       "    .dataframe thead th {\n",
       "        text-align: right;\n",
       "    }\n",
       "</style>\n",
       "<table border=\"1\" class=\"dataframe\">\n",
       "  <thead>\n",
       "    <tr style=\"text-align: right;\">\n",
       "      <th></th>\n",
       "      <th>District</th>\n",
       "      <th>Rooms</th>\n",
       "      <th>Abduction / Kidnapping</th>\n",
       "      <th>Arson</th>\n",
       "      <th>Mischief  over Rs.5000/=</th>\n",
       "      <th>H.B. &amp; Theft</th>\n",
       "      <th>Grevious  Hurt</th>\n",
       "      <th>Hurt  by Knife etc.</th>\n",
       "      <th>Homicide/Abet. To commit suicide</th>\n",
       "      <th>Attempted Homicide</th>\n",
       "      <th>...</th>\n",
       "      <th>Cheating/Misappropriation C.B. Trust &gt; Rs.100,000</th>\n",
       "      <th>Theft of Property (praedial produce &gt; Rs.5000)</th>\n",
       "      <th>Counterfeiting Currency</th>\n",
       "      <th>Offences against  State</th>\n",
       "      <th>Cruelty &amp; sexual  exploitation of children</th>\n",
       "      <th>Procuration / Trafficking</th>\n",
       "      <th>Offences under the Offensive weapons Act.</th>\n",
       "      <th>Possess Automatic/ Repeater Shot Guns</th>\n",
       "      <th>Offence under Poisons, Opium &amp; Dangerous Drugs</th>\n",
       "      <th>2012</th>\n",
       "    </tr>\n",
       "  </thead>\n",
       "  <tbody>\n",
       "    <tr>\n",
       "      <th>0</th>\n",
       "      <td>Ampara</td>\n",
       "      <td>610.0</td>\n",
       "      <td>0.044749</td>\n",
       "      <td>0.047835</td>\n",
       "      <td>0.055550</td>\n",
       "      <td>0.368793</td>\n",
       "      <td>0.106472</td>\n",
       "      <td>0.058637</td>\n",
       "      <td>0.024689</td>\n",
       "      <td>0.018517</td>\n",
       "      <td>...</td>\n",
       "      <td>0.357992</td>\n",
       "      <td>0.373422</td>\n",
       "      <td>0.001543</td>\n",
       "      <td>0.0</td>\n",
       "      <td>0.001543</td>\n",
       "      <td>0.003086</td>\n",
       "      <td>0.001543</td>\n",
       "      <td>0.000000</td>\n",
       "      <td>0.001543</td>\n",
       "      <td>648.06</td>\n",
       "    </tr>\n",
       "    <tr>\n",
       "      <th>1</th>\n",
       "      <td>Anuradhapura</td>\n",
       "      <td>979.0</td>\n",
       "      <td>0.079418</td>\n",
       "      <td>0.054892</td>\n",
       "      <td>0.124966</td>\n",
       "      <td>0.974037</td>\n",
       "      <td>0.126134</td>\n",
       "      <td>0.084090</td>\n",
       "      <td>0.028030</td>\n",
       "      <td>0.017519</td>\n",
       "      <td>...</td>\n",
       "      <td>0.315336</td>\n",
       "      <td>0.682060</td>\n",
       "      <td>0.007007</td>\n",
       "      <td>0.0</td>\n",
       "      <td>0.026862</td>\n",
       "      <td>0.002336</td>\n",
       "      <td>0.004672</td>\n",
       "      <td>0.001168</td>\n",
       "      <td>0.008175</td>\n",
       "      <td>856.23</td>\n",
       "    </tr>\n",
       "    <tr>\n",
       "      <th>2</th>\n",
       "      <td>Badulla</td>\n",
       "      <td>765.0</td>\n",
       "      <td>0.046812</td>\n",
       "      <td>0.017246</td>\n",
       "      <td>0.051739</td>\n",
       "      <td>0.442249</td>\n",
       "      <td>0.137972</td>\n",
       "      <td>0.104711</td>\n",
       "      <td>0.034493</td>\n",
       "      <td>0.013551</td>\n",
       "      <td>...</td>\n",
       "      <td>0.170001</td>\n",
       "      <td>0.364640</td>\n",
       "      <td>0.001232</td>\n",
       "      <td>0.0</td>\n",
       "      <td>0.002464</td>\n",
       "      <td>0.000000</td>\n",
       "      <td>0.003696</td>\n",
       "      <td>0.000000</td>\n",
       "      <td>0.024638</td>\n",
       "      <td>811.76</td>\n",
       "    </tr>\n",
       "    <tr>\n",
       "      <th>3</th>\n",
       "      <td>Batticaloa</td>\n",
       "      <td>883.0</td>\n",
       "      <td>0.039989</td>\n",
       "      <td>0.062840</td>\n",
       "      <td>0.072362</td>\n",
       "      <td>0.432266</td>\n",
       "      <td>0.106638</td>\n",
       "      <td>0.169479</td>\n",
       "      <td>0.020947</td>\n",
       "      <td>0.003809</td>\n",
       "      <td>...</td>\n",
       "      <td>0.428457</td>\n",
       "      <td>0.420840</td>\n",
       "      <td>0.001904</td>\n",
       "      <td>0.0</td>\n",
       "      <td>0.011426</td>\n",
       "      <td>0.005713</td>\n",
       "      <td>0.001904</td>\n",
       "      <td>0.001904</td>\n",
       "      <td>0.005713</td>\n",
       "      <td>525.14</td>\n",
       "    </tr>\n",
       "    <tr>\n",
       "      <th>4</th>\n",
       "      <td>Colombo</td>\n",
       "      <td>7519.0</td>\n",
       "      <td>0.066672</td>\n",
       "      <td>0.009525</td>\n",
       "      <td>0.060611</td>\n",
       "      <td>1.297076</td>\n",
       "      <td>0.107368</td>\n",
       "      <td>0.164083</td>\n",
       "      <td>0.026842</td>\n",
       "      <td>0.009092</td>\n",
       "      <td>...</td>\n",
       "      <td>0.751577</td>\n",
       "      <td>1.216117</td>\n",
       "      <td>0.001732</td>\n",
       "      <td>0.0</td>\n",
       "      <td>0.022513</td>\n",
       "      <td>0.000433</td>\n",
       "      <td>0.009092</td>\n",
       "      <td>0.002598</td>\n",
       "      <td>0.248072</td>\n",
       "      <td>2309.81</td>\n",
       "    </tr>\n",
       "  </tbody>\n",
       "</table>\n",
       "<p>5 rows × 25 columns</p>\n",
       "</div>"
      ],
      "text/plain": [
       "       District   Rooms  Abduction / Kidnapping     Arson  \\\n",
       "0        Ampara   610.0                0.044749  0.047835   \n",
       "1  Anuradhapura   979.0                0.079418  0.054892   \n",
       "2       Badulla   765.0                0.046812  0.017246   \n",
       "3    Batticaloa   883.0                0.039989  0.062840   \n",
       "4       Colombo  7519.0                0.066672  0.009525   \n",
       "\n",
       "   Mischief  over Rs.5000/=  H.B. & Theft  Grevious  Hurt  \\\n",
       "0                  0.055550      0.368793        0.106472   \n",
       "1                  0.124966      0.974037        0.126134   \n",
       "2                  0.051739      0.442249        0.137972   \n",
       "3                  0.072362      0.432266        0.106638   \n",
       "4                  0.060611      1.297076        0.107368   \n",
       "\n",
       "   Hurt  by Knife etc.  Homicide/Abet. To commit suicide  Attempted Homicide  \\\n",
       "0             0.058637                          0.024689            0.018517   \n",
       "1             0.084090                          0.028030            0.017519   \n",
       "2             0.104711                          0.034493            0.013551   \n",
       "3             0.169479                          0.020947            0.003809   \n",
       "4             0.164083                          0.026842            0.009092   \n",
       "\n",
       "    ...     Cheating/Misappropriation C.B. Trust > Rs.100,000  \\\n",
       "0   ...                                              0.357992   \n",
       "1   ...                                              0.315336   \n",
       "2   ...                                              0.170001   \n",
       "3   ...                                              0.428457   \n",
       "4   ...                                              0.751577   \n",
       "\n",
       "   Theft of Property (praedial produce > Rs.5000)  Counterfeiting Currency  \\\n",
       "0                                        0.373422                 0.001543   \n",
       "1                                        0.682060                 0.007007   \n",
       "2                                        0.364640                 0.001232   \n",
       "3                                        0.420840                 0.001904   \n",
       "4                                        1.216117                 0.001732   \n",
       "\n",
       "   Offences against  State  Cruelty & sexual  exploitation of children   \\\n",
       "0                      0.0                                     0.001543   \n",
       "1                      0.0                                     0.026862   \n",
       "2                      0.0                                     0.002464   \n",
       "3                      0.0                                     0.011426   \n",
       "4                      0.0                                     0.022513   \n",
       "\n",
       "   Procuration / Trafficking  Offences under the Offensive weapons Act.  \\\n",
       "0                   0.003086                                   0.001543   \n",
       "1                   0.002336                                   0.004672   \n",
       "2                   0.000000                                   0.003696   \n",
       "3                   0.005713                                   0.001904   \n",
       "4                   0.000433                                   0.009092   \n",
       "\n",
       "   Possess Automatic/ Repeater Shot Guns  \\\n",
       "0                               0.000000   \n",
       "1                               0.001168   \n",
       "2                               0.000000   \n",
       "3                               0.001904   \n",
       "4                               0.002598   \n",
       "\n",
       "   Offence under Poisons, Opium & Dangerous Drugs     2012  \n",
       "0                                        0.001543   648.06  \n",
       "1                                        0.008175   856.23  \n",
       "2                                        0.024638   811.76  \n",
       "3                                        0.005713   525.14  \n",
       "4                                        0.248072  2309.81  \n",
       "\n",
       "[5 rows x 25 columns]"
      ]
     },
     "execution_count": 18,
     "metadata": {},
     "output_type": "execute_result"
    }
   ],
   "source": [
    "integrated_dataNormalized = integrated_data\n",
    "\n",
    "for label,content in integrated_data.loc[:, \"Abduction / Kidnapping\":\"Offence under Poisons, Opium & Dangerous Drugs\"].iteritems():\n",
    "    integrated_dataNormalized[label] = integrated_data[label].divide(integrated_data[\"2012\"])\n",
    "    \n",
    "integrated_dataNormalized.head()"
   ]
  },
  {
   "cell_type": "markdown",
   "metadata": {},
   "source": [
    "#### Calculating pearson's correlation coefficient between variables"
   ]
  },
  {
   "cell_type": "code",
   "execution_count": 19,
   "metadata": {
    "scrolled": false
   },
   "outputs": [
    {
     "name": "stdout",
     "output_type": "stream",
     "text": [
      "Index(['Rooms', 'Robbery', 'Offence under Poisons, Opium & Dangerous Drugs',\n",
      "       '2012'],\n",
      "      dtype='object')\n"
     ]
    },
    {
     "data": {
      "text/plain": [
       "Text(0.5, 1.0, \"Room count vs Pearson's Correlation\")"
      ]
     },
     "execution_count": 19,
     "metadata": {},
     "output_type": "execute_result"
    },
    {
     "data": {
      "image/png": "[encoded data removed]",
      "text/plain": [
       "<Figure size 576x576 with 2 Axes>"
      ]
     },
     "metadata": {
      "needs_background": "light"
     },
     "output_type": "display_data"
    }
   ],
   "source": [
    "pearsonsCorrelations = integrated_dataNormalized.corr(method=\"pearson\")\n",
    "\n",
    "## Extract high correlations to Rooms\n",
    "topCorrFeatures = pearsonsCorrelations.index[abs(pearsonsCorrelations['Rooms']) >= 0.6]\n",
    "print(topCorrFeatures)\n",
    "\n",
    "plt.figure(figsize=(8,8))\n",
    "ax = sns.heatmap(integrated_dataNormalized[topCorrFeatures].corr(method=\"pearson\"), annot=True, cmap=\"RdYlGn\")\n",
    "ax.set_title('Room count vs Pearson\\'s Correlation')"
   ]
  },
  {
   "cell_type": "markdown",
   "metadata": {},
   "source": [
    "#### Calculating sperman's correlation coefficient between variables"
   ]
  },
  {
   "cell_type": "code",
   "execution_count": 20,
   "metadata": {},
   "outputs": [
    {
     "data": {
      "text/plain": [
       "Text(0.5, 1.0, \"Room count vs Spearman's Correlation\")"
      ]
     },
     "execution_count": 20,
     "metadata": {},
     "output_type": "execute_result"
    },
    {
     "data": {
      "image/png": "[encoded data removed]",
      "text/plain": [
       "<Figure size 432x432 with 2 Axes>"
      ]
     },
     "metadata": {
      "needs_background": "light"
     },
     "output_type": "display_data"
    }
   ],
   "source": [
    "spearmanCorrelations = integrated_dataNormalized.corr(method='spearman')\n",
    "\n",
    "## Extract high correlations to Rooms\n",
    "topCorrFeatures = spearmanCorrelations.index[abs(spearmanCorrelations['Rooms']) >= 0.5]\n",
    "\n",
    "plt.figure(figsize=(6,6))\n",
    "ax = sns.heatmap(integrated_dataNormalized[topCorrFeatures].corr(method='spearman'), annot=True, cmap=\"RdYlGn\")\n",
    "ax.set_title('Room count vs Spearman\\'s Correlation')"
   ]
  },
  {
   "cell_type": "markdown",
   "metadata": {},
   "source": [
    "According to above results there is a high correlation between the number of Rooms and crimes of catagory \"Offence under Poisons, Opium & Dangerous Drugs\" and \"Robbery\" of each district. Let's calculate the statistical significance of above results"
   ]
  },
  {
   "cell_type": "markdown",
   "metadata": {},
   "source": [
    "**Visualizing relation between tourism and crimes mentioned**"
   ]
  },
  {
   "cell_type": "code",
   "execution_count": 21,
   "metadata": {},
   "outputs": [
    {
     "data": {
      "image/png": "[encoded data removed]",
      "text/plain": [
       "<Figure size 1080x504 with 2 Axes>"
      ]
     },
     "metadata": {
      "needs_background": "light"
     },
     "output_type": "display_data"
    }
   ],
   "source": [
    "def plotScatterForCrime (column, tag, subPlotIndex):\n",
    "    plt.subplot(1,2,subPlotIndex)\n",
    "    plt.plot(integrated_data['Rooms'],  integrated_data[column], 'b^')\n",
    "\n",
    "    for i, txt in enumerate(integrated_data['District']):\n",
    "        if integrated_data['Rooms'][i] >= 2000:\n",
    "            plt.annotate(' ' + txt, (integrated_data['Rooms'][i], integrated_data[column][i]))\n",
    "\n",
    "    x, y = pd.Series(integrated_data['Rooms'], name=\"x_var\"), pd.Series(integrated_data[column], name=\"y_var\")\n",
    "    ax = sns.regplot(x=x, y=y, marker=\"+\")\n",
    "    \n",
    "    plt.title('Tourist rooms vs ' + tag)\n",
    "    plt.xlabel(\"Tourist rooms\")\n",
    "    plt.ylabel(tag)\n",
    "    \n",
    "plt.figure(figsize=(15, 7))\n",
    "plt.subplots_adjust(hspace=0.3)\n",
    "\n",
    "plotScatterForCrime('Robbery', \"Robbery\", 1)\n",
    "#plotScatterForCrime('Abduction / Kidnapping', \"Abduction / Kidnapping\", 2)\n",
    "plotScatterForCrime('Offence under Poisons, Opium & Dangerous Drugs', \"Offence under Dangerous Drugs\", 2)\n",
    "# plotScatterForCrime('H.B. & Theft', \"H.B. & Theft\", 4)\n",
    "# plotScatterForCrime('Offences under the Offensive weapons Act.', \"Offences under the Offensive weapons Act.\", 5)"
   ]
  },
  {
   "cell_type": "markdown",
   "metadata": {},
   "source": [
    "#### Testing for normality"
   ]
  },
  {
   "cell_type": "code",
   "execution_count": 22,
   "metadata": {},
   "outputs": [
    {
     "name": "stdout",
     "output_type": "stream",
     "text": [
      "22.90857212478845 1.0603927968791886e-05\n",
      "It is unlikely that number of rooms are normally distributed. 1.0603927968791886e-05 22.90857212478845\n"
     ]
    }
   ],
   "source": [
    "## Prove normallity\n",
    "value, p = stat.normaltest(integrated_dataNormalized['Rooms'], nan_policy='omit')\n",
    "\n",
    "print(value, p)\n",
    "if p >= 0.05:\n",
    "    print('It is likely that number of rooms are normally distributed.')\n",
    "else:\n",
    "    print('It is unlikely that number of rooms are normally distributed.', p, value)"
   ]
  },
  {
   "cell_type": "raw",
   "metadata": {},
   "source": [
    "Hence, it can be seen that number of Rooms per district is not normally distributed"
   ]
  },
  {
   "cell_type": "code",
   "execution_count": 23,
   "metadata": {},
   "outputs": [
    {
     "name": "stdout",
     "output_type": "stream",
     "text": [
      "14.576684990320576 0.0006834599526116946\n",
      "It is unlikely that number of Robberies are normally distributed. 0.0006834599526116946 14.576684990320576\n"
     ]
    }
   ],
   "source": [
    "value, p = stat.normaltest(integrated_dataNormalized['Robbery'], nan_policy='omit')\n",
    "\n",
    "print(value, p)\n",
    "if p >= 0.05:\n",
    "    print('It is likely that number of Robberies are normally distributed.')\n",
    "else:\n",
    "    print('It is unlikely that number of Robberies are normally distributed.', p, value)"
   ]
  },
  {
   "cell_type": "code",
   "execution_count": 24,
   "metadata": {},
   "outputs": [
    {
     "name": "stdout",
     "output_type": "stream",
     "text": [
      "14.576684990320576 4.441616644581294e-09\n",
      "It is unlikely that number of \"Offence under Poisons, Opium & Dangerous Drugs\" are normally distributed. 4.441616644581294e-09 14.576684990320576\n"
     ]
    }
   ],
   "source": [
    "alue, p = stat.normaltest(integrated_dataNormalized['Offence under Poisons, Opium & Dangerous Drugs'], nan_policy='omit')\n",
    "\n",
    "print(value, p)\n",
    "if p >= 0.05:\n",
    "    print('It is likely that number of \"Offence under Poisons, Opium & Dangerous Drugs\" are normally distributed.')\n",
    "else:\n",
    "    print('It is unlikely that number of \"Offence under Poisons, Opium & Dangerous Drugs\" are normally distributed.', p, value)"
   ]
  },
  {
   "cell_type": "markdown",
   "metadata": {},
   "source": [
    "### Hypothesis testing\n",
    "\n",
    "\n",
    "Hypothesis 1-\n",
    "\n",
    "    H0: Number of tourist Rooms and Crimes under Robberies are Uncorrelated\n",
    "    H1: Number of tourist Rooms and Crimes under Robberies are Correlated\n",
    "\n",
    "\n",
    "Hypothesis 2-\n",
    "\n",
    "    H0: Number of tourist Rooms and Crimes under \"Offence under Poisons, Opium & Dangerous Drugs\" are Uncorrelated\n",
    "    H1: Number of tourist Rooms and Crimes under \"Offence under Poisons, Opium & Dangerous Drugs\" are Correlated"
   ]
  },
  {
   "cell_type": "markdown",
   "metadata": {},
   "source": [
    "#### Testing Statistical significance for above hypothesis\n"
   ]
  },
  {
   "cell_type": "code",
   "execution_count": 25,
   "metadata": {},
   "outputs": [
    {
     "name": "stdout",
     "output_type": "stream",
     "text": [
      "0.5084615384615385 0.009450280771159697\n",
      "Number of tourist Rooms and Crimes under Robberies are Correlated\n"
     ]
    },
    {
     "data": {
      "image/png": "[encoded data removed]",
      "text/plain": [
       "<Figure size 432x288 with 1 Axes>"
      ]
     },
     "metadata": {
      "needs_background": "light"
     },
     "output_type": "display_data"
    }
   ],
   "source": [
    "from scipy import stats\n",
    "\n",
    "val, p = stats.spearmanr(integrated_dataNormalized[\"Rooms\"], integrated_dataNormalized[\"Robbery\"], nan_policy ='omit')\n",
    "\n",
    "alpha = 0.05\n",
    "\n",
    "print(val, p)\n",
    "if p > alpha:\n",
    "    print('Number of tourist Rooms and Crimes under Robberies are Uncorrelated')\n",
    "else:\n",
    "    print('Number of tourist Rooms and Crimes under Robberies are Correlated')\n",
    "    ax = sns.regplot(x=\"Rooms\", y=\"Robbery\", data=integrated_dataNormalized, color=\"g\")"
   ]
  },
  {
   "cell_type": "code",
   "execution_count": 26,
   "metadata": {},
   "outputs": [
    {
     "name": "stdout",
     "output_type": "stream",
     "text": [
      "0.4608578658053049 0.020420082997439096\n",
      "Number of tourist Rooms and crimes of \"Offence under Poisons, Opium & Dangerous Drugs\" are Correlated\n"
     ]
    },
    {
     "data": {
      "image/png": "[encoded data removed]",
      "text/plain": [
       "<Figure size 432x288 with 1 Axes>"
      ]
     },
     "metadata": {
      "needs_background": "light"
     },
     "output_type": "display_data"
    }
   ],
   "source": [
    "from scipy import stats\n",
    "\n",
    "val, p = stats.spearmanr(integrated_dataNormalized[\"Rooms\"], integrated_dataNormalized[\"Offence under Poisons, Opium & Dangerous Drugs\"], nan_policy ='omit')\n",
    "\n",
    "alpha = 0.05\n",
    "\n",
    "print(val, p)\n",
    "if p > alpha:\n",
    "    print('Number of tourist Rooms and crimes of \"Offence under Poisons, Opium & Dangerous Drugs\" are Uncorrelated')\n",
    "else:\n",
    "    print('Number of tourist Rooms and crimes of \"Offence under Poisons, Opium & Dangerous Drugs\" are Correlated')\n",
    "    ax = sns.regplot(x=\"Rooms\", y=\"Offence under Poisons, Opium & Dangerous Drugs\", data=integrated_dataNormalized, color=\"g\")"
   ]
  }
 ],
 "metadata": {
  "kernelspec": {
   "display_name": "Python 3",
   "language": "python",
   "name": "python3"
  },
  "language_info": {
   "codemirror_mode": {
    "name": "ipython",
    "version": 3
   },
   "file_extension": ".py",
   "mimetype": "text/x-python",
   "name": "python",
   "nbconvert_exporter": "python",
   "pygments_lexer": "ipython3",
   "version": "3.7.1"
  }
 },
 "nbformat": 4,
 "nbformat_minor": 2
}
