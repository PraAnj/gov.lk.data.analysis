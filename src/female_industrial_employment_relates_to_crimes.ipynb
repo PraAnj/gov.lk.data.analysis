{
 "cells": [
  {
   "cell_type": "markdown",
   "metadata": {},
   "source": [
    "# [Hypothesis] Female employment in industrial sector results in crimes\n",
    "\n",
    "\n",
    "Following crimes are identified to be related to this,\n",
    "\n",
    " 1. Abduction/ Kidnapping (0.8)\n",
    " 2. H.B. & Theft (0.77)\n",
    " 3. Hurt by knife (0.83)."
   ]
  },
  {
   "cell_type": "markdown",
   "metadata": {},
   "source": [
    "**Imports and workspace setting**"
   ]
  },
  {
   "cell_type": "code",
   "execution_count": 1,
   "metadata": {},
   "outputs": [],
   "source": [
    "import csv\n",
    "import math\n",
    "import os\n",
    "\n",
    "import numpy as np\n",
    "import pandas as pd\n",
    "import seaborn as sns\n",
    "import scipy.stats as stat\n",
    "\n",
    "import matplotlib.mlab as mlab\n",
    "import matplotlib.pyplot as plt\n",
    "%matplotlib inline"
   ]
  },
  {
   "cell_type": "code",
   "execution_count": 39,
   "metadata": {},
   "outputs": [
    {
     "name": "stdout",
     "output_type": "stream",
     "text": [
      "Data set size :  (25, 37)\n"
     ]
    },
    {
     "data": {
      "text/html": [
       "<div>\n",
       "<style scoped>\n",
       "    .dataframe tbody tr th:only-of-type {\n",
       "        vertical-align: middle;\n",
       "    }\n",
       "\n",
       "    .dataframe tbody tr th {\n",
       "        vertical-align: top;\n",
       "    }\n",
       "\n",
       "    .dataframe thead th {\n",
       "        text-align: right;\n",
       "    }\n",
       "</style>\n",
       "<table border=\"1\" class=\"dataframe\">\n",
       "  <thead>\n",
       "    <tr style=\"text-align: right;\">\n",
       "      <th></th>\n",
       "      <th>District</th>\n",
       "      <th>Female emp. Agriculture</th>\n",
       "      <th>Female emp. Industry</th>\n",
       "      <th>Female emp. Services</th>\n",
       "      <th>Female emp. Total</th>\n",
       "      <th>Total emp. Agriculture</th>\n",
       "      <th>Total emp. Industry</th>\n",
       "      <th>Total emp. Services</th>\n",
       "      <th>Total employment</th>\n",
       "      <th>Abduction / Kidnapping</th>\n",
       "      <th>Arson</th>\n",
       "      <th>Mischief  over Rs.5000/=</th>\n",
       "      <th>H.B. &amp; Theft</th>\n",
       "      <th>Grevious  Hurt</th>\n",
       "      <th>Hurt  by Knife etc.</th>\n",
       "      <th>Homicide/Abet. To commit suicide</th>\n",
       "      <th>Riot</th>\n",
       "      <th>Possess Automatic/ Repeater Shot Guns</th>\n",
       "      <th>Offence under Poisons, Opium &amp; Dangerous Drugs</th>\n",
       "    </tr>\n",
       "  </thead>\n",
       "  <tbody>\n",
       "    <tr>\n",
       "      <th>0</th>\n",
       "      <td>Ampara</td>\n",
       "      <td>1.8</td>\n",
       "      <td>4.1</td>\n",
       "      <td>44.7</td>\n",
       "      <td>50.6</td>\n",
       "      <td>11.3</td>\n",
       "      <td>15.9</td>\n",
       "      <td>30.6</td>\n",
       "      <td>57.8</td>\n",
       "      <td>29</td>\n",
       "      <td>31</td>\n",
       "      <td>36</td>\n",
       "      <td>239</td>\n",
       "      <td>69</td>\n",
       "      <td>38</td>\n",
       "      <td>16</td>\n",
       "      <td>1</td>\n",
       "      <td>0</td>\n",
       "      <td>1</td>\n",
       "    </tr>\n",
       "    <tr>\n",
       "      <th>1</th>\n",
       "      <td>Anuradhapura</td>\n",
       "      <td>1.7</td>\n",
       "      <td>5.5</td>\n",
       "      <td>18.0</td>\n",
       "      <td>25.2</td>\n",
       "      <td>2.9</td>\n",
       "      <td>5.8</td>\n",
       "      <td>23.5</td>\n",
       "      <td>32.2</td>\n",
       "      <td>68</td>\n",
       "      <td>47</td>\n",
       "      <td>107</td>\n",
       "      <td>834</td>\n",
       "      <td>108</td>\n",
       "      <td>72</td>\n",
       "      <td>24</td>\n",
       "      <td>4</td>\n",
       "      <td>1</td>\n",
       "      <td>7</td>\n",
       "    </tr>\n",
       "    <tr>\n",
       "      <th>2</th>\n",
       "      <td>Badulla</td>\n",
       "      <td>23.7</td>\n",
       "      <td>4.8</td>\n",
       "      <td>17.3</td>\n",
       "      <td>45.8</td>\n",
       "      <td>19.6</td>\n",
       "      <td>7.9</td>\n",
       "      <td>19.9</td>\n",
       "      <td>47.4</td>\n",
       "      <td>38</td>\n",
       "      <td>14</td>\n",
       "      <td>42</td>\n",
       "      <td>359</td>\n",
       "      <td>112</td>\n",
       "      <td>85</td>\n",
       "      <td>28</td>\n",
       "      <td>3</td>\n",
       "      <td>0</td>\n",
       "      <td>20</td>\n",
       "    </tr>\n",
       "    <tr>\n",
       "      <th>3</th>\n",
       "      <td>Batticaloa</td>\n",
       "      <td>2.1</td>\n",
       "      <td>4.0</td>\n",
       "      <td>33.2</td>\n",
       "      <td>39.3</td>\n",
       "      <td>16.6</td>\n",
       "      <td>14.8</td>\n",
       "      <td>27.6</td>\n",
       "      <td>59.0</td>\n",
       "      <td>21</td>\n",
       "      <td>33</td>\n",
       "      <td>38</td>\n",
       "      <td>227</td>\n",
       "      <td>56</td>\n",
       "      <td>89</td>\n",
       "      <td>11</td>\n",
       "      <td>0</td>\n",
       "      <td>1</td>\n",
       "      <td>3</td>\n",
       "    </tr>\n",
       "    <tr>\n",
       "      <th>4</th>\n",
       "      <td>Colombo</td>\n",
       "      <td>1.3</td>\n",
       "      <td>20.0</td>\n",
       "      <td>50.5</td>\n",
       "      <td>71.7</td>\n",
       "      <td>1.2</td>\n",
       "      <td>20.4</td>\n",
       "      <td>45.4</td>\n",
       "      <td>67.0</td>\n",
       "      <td>154</td>\n",
       "      <td>22</td>\n",
       "      <td>140</td>\n",
       "      <td>2996</td>\n",
       "      <td>248</td>\n",
       "      <td>379</td>\n",
       "      <td>62</td>\n",
       "      <td>3</td>\n",
       "      <td>6</td>\n",
       "      <td>573</td>\n",
       "    </tr>\n",
       "  </tbody>\n",
       "</table>\n",
       "</div>"
      ],
      "text/plain": [
       "       District  Female emp. Agriculture  Female emp. Industry  \\\n",
       "0        Ampara                      1.8                   4.1   \n",
       "1  Anuradhapura                      1.7                   5.5   \n",
       "2       Badulla                     23.7                   4.8   \n",
       "3    Batticaloa                      2.1                   4.0   \n",
       "4       Colombo                      1.3                  20.0   \n",
       "\n",
       "   Female emp. Services  Female emp. Total  Total emp. Agriculture  \\\n",
       "0                  44.7               50.6                    11.3   \n",
       "1                  18.0               25.2                     2.9   \n",
       "2                  17.3               45.8                    19.6   \n",
       "3                  33.2               39.3                    16.6   \n",
       "4                  50.5               71.7                     1.2   \n",
       "\n",
       "   Total emp. Industry  Total emp. Services  Total employment  \\\n",
       "0                 15.9                 30.6              57.8   \n",
       "1                  5.8                 23.5              32.2   \n",
       "2                  7.9                 19.9              47.4   \n",
       "3                 14.8                 27.6              59.0   \n",
       "4                 20.4                 45.4              67.0   \n",
       "\n",
       "   Abduction / Kidnapping  Arson  Mischief  over Rs.5000/=  H.B. & Theft  \\\n",
       "0                      29     31                        36           239   \n",
       "1                      68     47                       107           834   \n",
       "2                      38     14                        42           359   \n",
       "3                      21     33                        38           227   \n",
       "4                     154     22                       140          2996   \n",
       "\n",
       "   Grevious  Hurt  Hurt  by Knife etc.  Homicide/Abet. To commit suicide  \\\n",
       "0              69                   38                                16   \n",
       "1             108                   72                                24   \n",
       "2             112                   85                                28   \n",
       "3              56                   89                                11   \n",
       "4             248                  379                                62   \n",
       "\n",
       "   Riot  Possess Automatic/ Repeater Shot Guns  \\\n",
       "0     1                                      0   \n",
       "1     4                                      1   \n",
       "2     3                                      0   \n",
       "3     0                                      1   \n",
       "4     3                                      6   \n",
       "\n",
       "   Offence under Poisons, Opium & Dangerous Drugs  \n",
       "0                                               1  \n",
       "1                                               7  \n",
       "2                                              20  \n",
       "3                                               3  \n",
       "4                                             573  "
      ]
     },
     "execution_count": 39,
     "metadata": {},
     "output_type": "execute_result"
    }
   ],
   "source": [
    "integrated_data = pd.read_csv('../data/integrated_data.csv')\n",
    "print(\"Data set size : \", integrated_data.shape)\n",
    "integrated_data = integrated_data.drop(integrated_data.columns[[0, 2, 3, 4, 5, 6, 22, 23, 25, 26, 27, 28, 29, 30, 31,32, 33, 34]], axis=1)\n",
    "integrated_data.head()"
   ]
  },
  {
   "cell_type": "markdown",
   "metadata": {},
   "source": [
    "**Visualizing relation between female employment and crimes mentioned**"
   ]
  },
  {
   "cell_type": "code",
   "execution_count": 50,
   "metadata": {},
   "outputs": [
    {
     "data": {
      "image/png": "[encoded data removed]",
      "text/plain": [
       "<Figure size 1080x1080 with 3 Axes>"
      ]
     },
     "metadata": {
      "needs_background": "light"
     },
     "output_type": "display_data"
    }
   ],
   "source": [
    "def plotScatterForCrime (column, tag, subPlotIndex):\n",
    "    plt.subplot(2,2,subPlotIndex)\n",
    "    plt.plot(integrated_data['Female emp. Industry'],  integrated_data[column], 'b^')\n",
    "    plt.title('Female emp. Industry vs ' + tag)\n",
    "    plt.xlabel(\"Female emp. Industry\")\n",
    "    plt.ylabel(tag)\n",
    "\n",
    "    for i, txt in enumerate(integrated_data['District']):\n",
    "        if integrated_data['Female emp. Industry'][i] >= 15:\n",
    "            plt.annotate(' ' + txt, (integrated_data['Female emp. Industry'][i], integrated_data[column][i]))\n",
    "\n",
    "plt.figure(figsize=(15, 15))\n",
    "plt.subplots_adjust(hspace=0.2)\n",
    "\n",
    "plotScatterForCrime('Abduction / Kidnapping', \"Abduction/ Kidnapping\", 1)\n",
    "plotScatterForCrime('H.B. & Theft', \"H.B. & Theft\", 2)\n",
    "plotScatterForCrime('Hurt  by Knife etc.', \"Hurt by knife\", 3)"
   ]
  },
  {
   "cell_type": "code",
   "execution_count": 49,
   "metadata": {},
   "outputs": [],
   "source": [
    "## high_female_emp_cities\n",
    "## low_female_emp_cities"
   ]
  },
  {
   "cell_type": "code",
   "execution_count": 18,
   "metadata": {},
   "outputs": [],
   "source": [
    "## Combine 2 crime values together"
   ]
  },
  {
   "cell_type": "code",
   "execution_count": 19,
   "metadata": {},
   "outputs": [],
   "source": [
    "## Prove hypothesis"
   ]
  },
  {
   "cell_type": "code",
   "execution_count": 20,
   "metadata": {},
   "outputs": [],
   "source": [
    "## Conclusions"
   ]
  }
 ],
 "metadata": {
  "kernelspec": {
   "display_name": "Python 3",
   "language": "python",
   "name": "python3"
  },
  "language_info": {
   "codemirror_mode": {
    "name": "ipython",
    "version": 3
   },
   "file_extension": ".py",
   "mimetype": "text/x-python",
   "name": "python",
   "nbconvert_exporter": "python",
   "pygments_lexer": "ipython3",
   "version": "3.7.1"
  }
 },
 "nbformat": 4,
 "nbformat_minor": 2
}
